{
 "cells": [
  {
   "cell_type": "code",
   "execution_count": 14,
   "metadata": {},
   "outputs": [],
   "source": [
    "# 필요한 패키지 설치\n",
    "import requests\n",
    "from bs4 import BeautifulSoup\n",
    "import io\n",
    "import zipfile\n",
    "import xmltodict\n",
    "from io import BytesIO\n",
    "from zipfile import ZipFile\n",
    "from xml.etree.ElementTree import parse\n",
    "import pandas as pd\n",
    "from lxml import html\n",
    "from urllib.request import Request, urlopen\n",
    "from urllib.parse import urlencode, quote_plus, unquote\n",
    "import numpy as np\n",
    "import pymysql\n",
    "from insert_select_db import Database\n",
    "from insert_data_processor_ver1 import DataProcessor"
   ]
  },
  {
   "cell_type": "code",
   "execution_count": null,
   "metadata": {},
   "outputs": [],
   "source": [
    "# config.txt에서 설정값을 읽기\n",
    "with open(\"config.txt\", \"r\") as file:\n",
    "    exec(file.read())\n",
    "\n",
    "# Database 객체를 생성\n",
    "db = Database(configs)\n",
    "\n",
    "# DataProcessor 객체를 생성\n",
    "processor = DataProcessor(db)"
   ]
  },
  {
   "attachments": {},
   "cell_type": "markdown",
   "metadata": {},
   "source": [
    "## 고유번호 개발 가이드\n",
    "1. 요청 파라미터\n",
    "- 고유번호 corp_code \n",
    "- 정식명칭 corp_name\n",
    "- 종목코드 stock_code\n",
    "- 최종변경일자 modify_date\n",
    "\n",
    "2. 추출 결과값\n",
    "- "
   ]
  },
  {
   "cell_type": "code",
   "execution_count": 15,
   "metadata": {},
   "outputs": [],
   "source": [
    "# https://opendart.fss.or.kr/guide/detail.do?apiGrpCd=DS001&apiId=2019018\n",
    "KEY = '5b8f0aa6967605a94ba6e9a39b461c2e86cf0d85'\n",
    "\n",
    "url = '\thttps://opendart.fss.or.kr/api/corpCode.xml'\n",
    "params = {'crtfc_key' : KEY}\n",
    "\n",
    "response = requests.get(url, params = params).content\n",
    "\n",
    "\n",
    "# 압축 파일 풀어서 xml파일 디렉토리에 저장하기\n",
    "with ZipFile(BytesIO(response)) as zipfile:\n",
    "    zipfile.extractall('corpCode')\n",
    "\n",
    "#corpcode xml 파일 생김"
   ]
  },
  {
   "cell_type": "code",
   "execution_count": 46,
   "metadata": {},
   "outputs": [],
   "source": [
    "# xml 파일 읽어오기, 여기서 고유번호와 종목명이 포함된 리스트를 만들 것임\n",
    "xmlTree = parse('./corpCode/CORPCODE.xml')\n",
    "root = xmlTree.getroot()\n",
    "raw_list = root.findall('list')\n",
    "\n",
    "corp_list = []\n",
    "\n",
    "for l in range(len(raw_list)):\n",
    "    corp_code = raw_list[l].findtext('corp_code')\n",
    "    corp_name = raw_list[l].findtext('corp_name')\n",
    "    stock_code = raw_list[l].findtext('stock_code')\n",
    "    modify_date = raw_list[l].findtext('modify_date')\n",
    "    \n",
    "    corp_list.append([corp_code, corp_name, stock_code, modify_date])\n",
    "    \n",
    "#corp_list 형성\n",
    "# corp_list\n",
    "\n",
    "#corp_list -> corp_df\n",
    "\n",
    "\n",
    "from pandas import DataFrame\n",
    "from datetime import datetime\n",
    "\n",
    "#위에서 생성한 corp_list에 라벨링하여 데이터프레임화\n",
    "\n",
    "corp_df = DataFrame(corp_list, columns=[\n",
    "    '고유번호',\n",
    "    '정식명칭', \n",
    "    '종목코드', \n",
    "    '최종변경일자'\n",
    "])\n",
    "\n",
    "#corp_df 의 결측치 drop시킨 stock_df (종목코드가 없는 종목을 drop하고, 최종변경일자는 쓰지 않으므로 칼럼 전체를 drop)\n",
    "\n",
    "stock_df = corp_df[corp_df['종목코드'] != \" \"]\n",
    "stock_df = stock_df[['고유번호', '정식명칭', '종목코드', '최종변경일자']].dropna()"
   ]
  },
  {
   "cell_type": "code",
   "execution_count": 19,
   "metadata": {},
   "outputs": [],
   "source": [
    "# stock_df에서 고유번호를 호출해오는 함수 형성\n",
    "def goyu_searcher(COMPANYNAME):\n",
    "    temp_df = stock_df.loc[(stock_df['정식명칭'] == COMPANYNAME)]\n",
    "    return temp_df.iloc[0, 0]"
   ]
  },
  {
   "cell_type": "code",
   "execution_count": 20,
   "metadata": {},
   "outputs": [],
   "source": [
    "# stock_df에서 종목 이름을 호출해오는 함수 형성\n",
    "def corpname_searcher(CORP_CODE):\n",
    "    temp_df = stock_df.loc[(stock_df['고유번호'] == CORP_CODE)]\n",
    "    return temp_df.iloc[0, 1]"
   ]
  },
  {
   "cell_type": "code",
   "execution_count": 21,
   "metadata": {},
   "outputs": [
    {
     "data": {
      "text/plain": [
       "['00126380', '00126256', '00164742', '00413046', '00155319']"
      ]
     },
     "execution_count": 21,
     "metadata": {},
     "output_type": "execute_result"
    }
   ],
   "source": [
    "#######\n",
    "\n",
    "crno_list = []\n",
    "\n",
    "corp_list_temp = ['삼성전자', '삼성생명', '현대자동차', '셀트리온', 'POSCO홀딩스']\n",
    "for corp in corp_list_temp:\n",
    "    crno_list.append(goyu_searcher(corp))"
   ]
  },
  {
   "cell_type": "code",
   "execution_count": 22,
   "metadata": {},
   "outputs": [],
   "source": [
    "# 가져온 corp_code를 바탕으로 \n",
    "\n",
    "def get_items(KEY, CORP_CODE, YEAR, RPT_CODE, FS_DIV):\n",
    "    import requests\n",
    "    from bs4 import BeautifulSoup\n",
    "    import pandas as pd\n",
    "    from lxml import html\n",
    "    from urllib.request import Request, urlopen\n",
    "    from urllib.parse import urlencode, quote_plus, unquote\n",
    "    \n",
    "    \n",
    "    url = 'https://opendart.fss.or.kr/api/fnlttSinglAcntAll.json'\n",
    "    params={'crtfc_key' : KEY,\n",
    "            'corp_code' : CORP_CODE, \n",
    "            'bsns_year' : YEAR, \n",
    "            'reprt_code' : RPT_CODE, \n",
    "            'fs_div' : FS_DIV}\n",
    "    \n",
    "    response = requests.get(url, params = params)\n",
    "    \n",
    "    import json\n",
    "    try:\n",
    "            json_obj = json.loads(response.text)[\"list\"]\n",
    "    except:\n",
    "        #     json_obj = [\"## ERROR\", corpname_searcher(CORP_CODE), YEAR, RPT_CODE]\n",
    "            json_obj = [\"## ERROR\", corpname_searcher(CORP_CODE), YEAR] #ok\n",
    "            # json_obj = [corpname_searcher(CORP_CODE), RPT_CODE] ok\n",
    "        #     json_obj = [corpname_searcher(CORP_CODE), YEAR, RPT_CODE]"
   ]
  },
  {
   "cell_type": "code",
   "execution_count": null,
   "metadata": {},
   "outputs": [],
   "source": [
    "#get_items()를 사용하여 구하고자 하는 기업들의 재무제표 정보 가져오기\n",
    "\n",
    "corp_list = ['삼성전자', '삼성생명', '현대자동차', '셀트리온', 'POSCO홀딩스']\n",
    "year_list = range(2018, 2024)\n",
    "reprtlist = ['11013', '11012', '11014', '11011']\n",
    "fs_divs = ['CFS', 'OFS']\n",
    "\n",
    "result_list = []\n",
    "\n",
    "for corp in corp_list:\n",
    "    for year in year_list:\n",
    "        for reprt in reprtlist:\n",
    "            for fs_div in fs_divs:\n",
    "                result_list.extend(get_items(KEY, goyu_searcher(corp), year, reprt, fs_div))        "
   ]
  },
  {
   "cell_type": "code",
   "execution_count": null,
   "metadata": {},
   "outputs": [],
   "source": [
    "# 구한 결과값을 df로 변환\n",
    "\n",
    "\n",
    "#틀을 먼저 만들고\n",
    "rcept_no_dfcol = []\n",
    "corp_name_dfcol = []\n",
    "corp_code_dfcol = []\n",
    "bsns_year_dfcol = []\n",
    "reprt_code_dfcol = []\n",
    "\n",
    "result_list = [dict_row for dict_row in result_list if isinstance(dict_row, dict)]\n",
    "\n",
    "for dict_row in result_list:\n",
    "    rcept_no_dfcol.append(dict_row['rcept_no'])\n",
    "    corp_name_dfcol.append(corpname_searcher(dict_row['corp_code']))\n",
    "    corp_code_dfcol.append(dict_row['corp_code'])\n",
    "    bsns_year_dfcol.append(dict_row['bsns_year'])\n",
    "    reprt_code_dfcol.append(dict_row['reprt_code'])\n",
    "\n",
    "data = {'기준일자': rcept_no_dfcol, '기업명': corp_name_dfcol, '종목코드': corp_code_dfcol, '사업년도': bsns_year_dfcol, '분기코드': reprt_code_dfcol}\n",
    "\n",
    "result_df = pd.DataFrame(data = data)"
   ]
  },
  {
   "cell_type": "code",
   "execution_count": null,
   "metadata": {},
   "outputs": [],
   "source": [
    "# 지표 데이터를 넣을 컬럼 리스트 생성\n",
    "\n",
    "data_dfcol = [] # 바로 데이터프레임에 컬럼 추가할거긴 한데, 일단 어떤 내용이 들어간지도 모이면 좋을 것 같아서\n",
    "\n",
    "for dict_row in result_list:\n",
    "    data_dfcol.append(dict_row['account_nm'])\n",
    "data_dfcol = list(set(data_dfcol))\n",
    "\n",
    "for data_col in data_dfcol:\n",
    "    result_df[data_col] = None\n",
    "    \n",
    "\n",
    "result_df = result_df.drop_duplicates().reset_index(drop=True)"
   ]
  },
  {
   "cell_type": "code",
   "execution_count": null,
   "metadata": {},
   "outputs": [],
   "source": [
    "for dict_row in result_list:\n",
    "    # 종목코드, 사업년도, 분기코드가 같은 행을 df에서 찾아서 숫자를 탐색, df에 저장\n",
    "    \n",
    "    corp_code = dict_row['corp_code']\n",
    "    bsns_year = dict_row['bsns_year']\n",
    "    reprt_code = dict_row['reprt_code']\n",
    "    \n",
    "    acc_name = dict_row['account_nm']\n",
    "    acc_data = dict_row['thstrm_amount']\n",
    "    \n",
    "    condition = (result_df['종목코드'] == corp_code) & (result_df['사업년도'] == bsns_year) & (result_df['분기코드'] == reprt_code)\n",
    "    \n",
    "    result_df.at[result_df.loc[condition].index, acc_name] = acc_data\n",
    "\n"
   ]
  },
  {
   "cell_type": "code",
   "execution_count": null,
   "metadata": {},
   "outputs": [],
   "source": [
    "dict_row = result_list[0]\n",
    "\n",
    "\n",
    "corp_code = dict_row['corp_code']\n",
    "bsns_year = dict_row['bsns_year']\n",
    "reprt_code = dict_row['reprt_code']\n",
    "\n",
    "acc_name = dict_row['account_nm']\n",
    "acc_data = dict_row['thstrm_amount']\n",
    "\n",
    "# print(corp_code, bsns_year, reprt_code, acc_name, acc_data)\n",
    "result_df['연차배당금']\n",
    "\n",
    "\n",
    "# condition = (result_df['종목코드'] == corp_code) & (result_df['사업년도'] == bsns_year) & (result_df['분기코드'] == reprt_code)\n",
    "\n",
    "# result_df.at[result_df.loc[condition].index, acc_name] = acc_data"
   ]
  },
  {
   "cell_type": "code",
   "execution_count": null,
   "metadata": {},
   "outputs": [],
   "source": [
    "test_result_df = result_df.dropna(axis='columns')\n",
    "\n",
    "# '분기명' 열 생성\n",
    "test_result_df['분기명'] = test_result_df['분기코드'].map({'11013': '1분기', '11012': '2분기', '11014': '3분기', '11011': '4분기'})\n",
    "cols = test_result_df.columns.tolist()  # 열 인덱스 리스트로 변환\n",
    "cols[3], cols[26] = cols[26], cols[3]  # 열 위치 교환\n",
    "test_result_df = test_result_df[cols]"
   ]
  },
  {
   "cell_type": "code",
   "execution_count": null,
   "metadata": {},
   "outputs": [],
   "source": [
    "stock_codes = {'삼성전자' : '005930', '셀트리온' : '068270', '삼성생명' : '032830', 'POSCO홀딩스' : '005490', '현대자동차' : '005380'}\n",
    "\n",
    "test_result_df['주가코드'] = test_result_df.apply(lambda row: stock_codes.get(row.기업명), axis=1)\n"
   ]
  },
  {
   "cell_type": "code",
   "execution_count": 53,
   "metadata": {},
   "outputs": [],
   "source": [
    "required_columns=['company_id', 'company_name','dctl', 'ncl', 'nci', 'dta', 'ca', 'aia', 'oci', 'cl', 'cs', 'ata', 'cce', 'inv', 'cogs', 'tota', 'nca', 'ia', 'ip', 'tnga', 'ir', 'gp', 'tl', 'fi', 'date', 'quarter', 'fq', 'os', 'gp_a']\n",
    "table_name = 'report'\n",
    "processor.process_and_insert_report_data(api_final_result, required_columns, table_name, log_info='api_final_result')"
   ]
  }
 ],
 "metadata": {
  "kernelspec": {
   "display_name": "Python 3",
   "language": "python",
   "name": "python3"
  },
  "language_info": {
   "codemirror_mode": {
    "name": "ipython",
    "version": 3
   },
   "file_extension": ".py",
   "mimetype": "text/x-python",
   "name": "python",
   "nbconvert_exporter": "python",
   "pygments_lexer": "ipython3",
   "version": "3.9.7"
  },
  "orig_nbformat": 4
 },
 "nbformat": 4,
 "nbformat_minor": 2
}
